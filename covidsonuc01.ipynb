{
  "nbformat": 4,
  "nbformat_minor": 0,
  "metadata": {
    "colab": {
      "name": "covidsonuc.ipynb",
      "provenance": [],
      "collapsed_sections": []
    },
    "kernelspec": {
      "name": "python3",
      "display_name": "Python 3"
    }
  },
  "cells": [
    {
      "cell_type": "code",
      "metadata": {
        "colab": {
          "base_uri": "https://localhost:8080/"
        },
        "id": "4N4TSyCug9F2",
        "outputId": "2617d9c8-93e9-4b4a-c25f-d5b02de6ea98"
      },
      "source": [
        "!apt-get install -y -qq software-properties-common python-software-properties module-init-tools\r\n",
        "!add-apt-repository -y ppa:alessandro-strada/ppa 2>&1 > /dev/null\r\n",
        "!apt-get update -qq 2>&1 > /dev/null\r\n",
        "!apt-get -y install -qq google-drive-ocamlfuse fuse\r\n",
        "from google.colab import auth\r\n",
        "auth.authenticate_user()\r\n",
        "from oauth2client.client import GoogleCredentials\r\n",
        "creds = GoogleCredentials.get_application_default()\r\n",
        "import getpass\r\n",
        "!google-drive-ocamlfuse -headless -id={creds.client_id} -secret={creds.client_secret} < /dev/null 2>&1 | grep URL\r\n",
        "vcode = getpass.getpass()\r\n",
        "!echo {vcode} | google-drive-ocamlfuse -headless -id={creds.client_id} -secret={creds.client_secret}"
      ],
      "execution_count": null,
      "outputs": [
        {
          "output_type": "stream",
          "text": [
            "E: Package 'python-software-properties' has no installation candidate\n",
            "Selecting previously unselected package google-drive-ocamlfuse.\n",
            "(Reading database ... 146374 files and directories currently installed.)\n",
            "Preparing to unpack .../google-drive-ocamlfuse_0.7.24-0ubuntu1~ubuntu18.04.1_amd64.deb ...\n",
            "Unpacking google-drive-ocamlfuse (0.7.24-0ubuntu1~ubuntu18.04.1) ...\n",
            "Setting up google-drive-ocamlfuse (0.7.24-0ubuntu1~ubuntu18.04.1) ...\n",
            "Processing triggers for man-db (2.8.3-2ubuntu0.1) ...\n",
            "Please, open the following URL in a web browser: https://accounts.google.com/o/oauth2/auth?client_id=32555940559.apps.googleusercontent.com&redirect_uri=urn%3Aietf%3Awg%3Aoauth%3A2.0%3Aoob&scope=https%3A%2F%2Fwww.googleapis.com%2Fauth%2Fdrive&response_type=code&access_type=offline&approval_prompt=force\n",
            "··········\n",
            "Please, open the following URL in a web browser: https://accounts.google.com/o/oauth2/auth?client_id=32555940559.apps.googleusercontent.com&redirect_uri=urn%3Aietf%3Awg%3Aoauth%3A2.0%3Aoob&scope=https%3A%2F%2Fwww.googleapis.com%2Fauth%2Fdrive&response_type=code&access_type=offline&approval_prompt=force\n",
            "Please enter the verification code: Access token retrieved correctly.\n"
          ],
          "name": "stdout"
        }
      ]
    },
    {
      "cell_type": "code",
      "metadata": {
        "id": "svt0zA47mv-a"
      },
      "source": [
        "import pandas as pd\r\n",
        "import numpy as np\r\n",
        "import matplotlib.pyplot as plt\r\n",
        "import seaborn as sns\r\n",
        "import matplotlib.pyplot as plt \r\n",
        "import csv \r\n",
        "import re \r\n",
        "\r\n",
        "from collections import Counter\r\n",
        "\r\n",
        "from sklearn.ensemble import RandomForestClassifier, AdaBoostClassifier, GradientBoostingClassifier, ExtraTreesClassifier, VotingClassifier\r\n",
        "from sklearn.discriminant_analysis import LinearDiscriminantAnalysis\r\n",
        "from sklearn.linear_model import LogisticRegression\r\n",
        "from sklearn.neighbors import KNeighborsClassifier\r\n",
        "from sklearn.tree import DecisionTreeClassifier\r\n",
        "from sklearn.neural_network import MLPClassifier\r\n",
        "from sklearn.svm import SVC\r\n",
        "from sklearn.model_selection import GridSearchCV, cross_val_score, StratifiedKFold, learning_curve\r\n",
        "\r\n",
        "from math import sqrt\r\n",
        "from sklearn.model_selection import train_test_split\r\n",
        "from numpy import concatenate\r\n",
        "from pandas import read_csv\r\n",
        "from pandas import DataFrame\r\n",
        "from pandas import concat\r\n",
        "from pandas import to_datetime\r\n",
        "from sklearn.preprocessing import MinMaxScaler\r\n",
        "from sklearn.preprocessing import LabelEncoder\r\n",
        "from sklearn.metrics import mean_squared_error\r\n",
        "from keras.models import Sequential\r\n",
        "from keras.layers import LSTM\r\n",
        "from keras.layers import Dense\r\n",
        "from matplotlib import pyplot\r\n",
        "\r\n",
        "sns.set(style='white', context='notebook', palette='deep')"
      ],
      "execution_count": 1,
      "outputs": []
    },
    {
      "cell_type": "code",
      "metadata": {
        "id": "6uSBQsoWqtqO"
      },
      "source": [
        "from keras.layers import Dense\r\n",
        "from keras.models import Sequential\r\n",
        "from keras.optimizers import SGD\r\n",
        "from keras.utils import to_categorical"
      ],
      "execution_count": 2,
      "outputs": []
    },
    {
      "cell_type": "code",
      "metadata": {
        "colab": {
          "base_uri": "https://localhost:8080/"
        },
        "id": "pYfNWhFznlpT",
        "outputId": "86844997-0e11-4ed8-9036-b447a0cdfd31"
      },
      "source": [
        "pip install PyDrive"
      ],
      "execution_count": 3,
      "outputs": [
        {
          "output_type": "stream",
          "text": [
            "Requirement already satisfied: PyDrive in /usr/local/lib/python3.6/dist-packages (1.3.1)\n",
            "Requirement already satisfied: oauth2client>=4.0.0 in /usr/local/lib/python3.6/dist-packages (from PyDrive) (4.1.3)\n",
            "Requirement already satisfied: google-api-python-client>=1.2 in /usr/local/lib/python3.6/dist-packages (from PyDrive) (1.7.12)\n",
            "Requirement already satisfied: PyYAML>=3.0 in /usr/local/lib/python3.6/dist-packages (from PyDrive) (3.13)\n",
            "Requirement already satisfied: httplib2>=0.9.1 in /usr/local/lib/python3.6/dist-packages (from oauth2client>=4.0.0->PyDrive) (0.17.4)\n",
            "Requirement already satisfied: pyasn1-modules>=0.0.5 in /usr/local/lib/python3.6/dist-packages (from oauth2client>=4.0.0->PyDrive) (0.2.8)\n",
            "Requirement already satisfied: pyasn1>=0.1.7 in /usr/local/lib/python3.6/dist-packages (from oauth2client>=4.0.0->PyDrive) (0.4.8)\n",
            "Requirement already satisfied: six>=1.6.1 in /usr/local/lib/python3.6/dist-packages (from oauth2client>=4.0.0->PyDrive) (1.15.0)\n",
            "Requirement already satisfied: rsa>=3.1.4 in /usr/local/lib/python3.6/dist-packages (from oauth2client>=4.0.0->PyDrive) (4.6)\n",
            "Requirement already satisfied: google-auth-httplib2>=0.0.3 in /usr/local/lib/python3.6/dist-packages (from google-api-python-client>=1.2->PyDrive) (0.0.4)\n",
            "Requirement already satisfied: google-auth>=1.4.1 in /usr/local/lib/python3.6/dist-packages (from google-api-python-client>=1.2->PyDrive) (1.17.2)\n",
            "Requirement already satisfied: uritemplate<4dev,>=3.0.0 in /usr/local/lib/python3.6/dist-packages (from google-api-python-client>=1.2->PyDrive) (3.0.1)\n",
            "Requirement already satisfied: setuptools>=40.3.0 in /usr/local/lib/python3.6/dist-packages (from google-auth>=1.4.1->google-api-python-client>=1.2->PyDrive) (51.3.3)\n",
            "Requirement already satisfied: cachetools<5.0,>=2.0.0 in /usr/local/lib/python3.6/dist-packages (from google-auth>=1.4.1->google-api-python-client>=1.2->PyDrive) (4.2.0)\n"
          ],
          "name": "stdout"
        }
      ]
    },
    {
      "cell_type": "code",
      "metadata": {
        "id": "8ClrwOuNnqiP"
      },
      "source": [
        "from pydrive.auth import GoogleAuth\r\n",
        "from pydrive.drive import GoogleDrive\r\n",
        "from google.colab import auth\r\n",
        "from oauth2client.client import GoogleCredentials"
      ],
      "execution_count": 4,
      "outputs": []
    },
    {
      "cell_type": "code",
      "metadata": {
        "id": "eSBhR6COntlo"
      },
      "source": [
        "auth.authenticate_user()\r\n",
        "gauth = GoogleAuth()\r\n",
        "gauth.credentials = GoogleCredentials.get_application_default()\r\n",
        "drive = GoogleDrive(gauth)"
      ],
      "execution_count": 5,
      "outputs": []
    },
    {
      "cell_type": "code",
      "metadata": {
        "id": "8fCnhgoBnuGL"
      },
      "source": [
        "downloaded = drive.CreateFile({'id':\"1EwH69uQtYm7W3MxZ8k308i4mfqKYq9ww\"})   # replace the id with id of file you want to access\r\n",
        "downloaded.GetContentFile('covid_test.csv')        # replace the file name with your file"
      ],
      "execution_count": 7,
      "outputs": []
    },
    {
      "cell_type": "code",
      "metadata": {
        "colab": {
          "base_uri": "https://localhost:8080/"
        },
        "id": "ioFSYLmHoiqC",
        "outputId": "85b4ef57-1012-42f0-ec36-edb21311eb5c"
      },
      "source": [
        "#link çalışıyor mu kontrol ederiz \r\n",
        "!mkdir -p drive\r\n",
        "!google-drive-ocamlfuse drive"
      ],
      "execution_count": 8,
      "outputs": [
        {
          "output_type": "stream",
          "text": [
            "/bin/bash: google-drive-ocamlfuse: command not found\n"
          ],
          "name": "stdout"
        }
      ]
    },
    {
      "cell_type": "code",
      "metadata": {
        "colab": {
          "base_uri": "https://localhost:8080/"
        },
        "id": "kQ4ww7N4m6Jn",
        "outputId": "059f45e8-0bcb-4a6d-e66d-a4d83a6276d3"
      },
      "source": [
        "dataset = pd.read_csv('covid_test.csv')\r\n",
        "values = dataset.values\r\n",
        "print(dataset)"
      ],
      "execution_count": 9,
      "outputs": [
        {
          "output_type": "stream",
          "text": [
            "      sira  random  model1  Model-2  ...  Model-8  Model-9  Model-10  Label\n",
            "0      644       1       1        1  ...        1        0         1      0\n",
            "1     1098       2       1        1  ...        1        1         1      1\n",
            "2     1390       3       1        1  ...        1        1         1      1\n",
            "3     2931       4       1        1  ...        1        1         1      1\n",
            "4     1154       5       1        1  ...        1        1         1      1\n",
            "...    ...     ...     ...      ...  ...      ...      ...       ...    ...\n",
            "3251  3102    3252       1        1  ...        1        1         1      1\n",
            "3252  2974    3253       1        1  ...        1        1         1      1\n",
            "3253  3048    3254       1        1  ...        1        1         1      1\n",
            "3254  3157    3255       1        1  ...        1        1         1      1\n",
            "3255    32    3256       0        0  ...        0        0         0      0\n",
            "\n",
            "[3256 rows x 13 columns]\n"
          ],
          "name": "stdout"
        }
      ]
    },
    {
      "cell_type": "code",
      "metadata": {
        "id": "lj71RewhMPFl"
      },
      "source": [
        "# convert series to supervised learning\r\n",
        "def series_to_supervised(dataset, n_in=1, n_out=1, dropnan=True):\r\n",
        "    num_vars = 1 if type(dataset) is list else dataset.shape[1]\r\n",
        "    dataframe = DataFrame(dataset)\r\n",
        "    cols, names = list(), list()\r\n",
        "    \r\n",
        "    # input sequence (t-n, ....t-1)\r\n",
        "    for i in range(n_in, 0, -1):\r\n",
        "        cols.append(dataframe.shift(i))\r\n",
        "        names += [('var%d(t-%d)' % (j+1, i)) for j in range(num_vars)]\r\n",
        "    # forecast sequence (t, t+1 .... t+n)\r\n",
        "    for i in range(0, n_out):\r\n",
        "        cols.append(dataframe.shift(-i))\r\n",
        "        if i == 0:\r\n",
        "            names += [('var%d(t)' % (j+1)) for j in range(num_vars)]\r\n",
        "        else:\r\n",
        "            names += [('var%d(t+%d)' % (j+1, i)) for j in range(num_vars)]\r\n",
        "    \r\n",
        "    # put it all together \r\n",
        "    agg = concat(cols, axis=1)\r\n",
        "    agg.columns = names\r\n",
        "    \r\n",
        "    # drop rows with NaN values\r\n",
        "    if dropnan:\r\n",
        "        agg.dropna(inplace=True)\r\n",
        "    return agg"
      ],
      "execution_count": 10,
      "outputs": []
    },
    {
      "cell_type": "code",
      "metadata": {
        "id": "y_OIUPgPoRwk"
      },
      "source": [
        "# standardizasyon \r\n",
        "scaler = MinMaxScaler(feature_range=(0,1))\r\n",
        "scaled=scaler.fit_transform(values)"
      ],
      "execution_count": 11,
      "outputs": []
    },
    {
      "cell_type": "code",
      "metadata": {
        "id": "8QpQuR3XoZ6_"
      },
      "source": [
        "# frame as supervised learning\r\n",
        "reframed = series_to_supervised(scaled, 1, 1)"
      ],
      "execution_count": 12,
      "outputs": []
    },
    {
      "cell_type": "code",
      "metadata": {
        "id": "XM7bvWi7vN0K"
      },
      "source": [
        "dataset = dataset.drop('sira', axis=1)"
      ],
      "execution_count": 13,
      "outputs": []
    },
    {
      "cell_type": "code",
      "metadata": {
        "id": "FVdZuouFvavy"
      },
      "source": [
        "dataset = dataset.drop('random', axis=1)\r\n"
      ],
      "execution_count": 14,
      "outputs": []
    },
    {
      "cell_type": "code",
      "metadata": {
        "colab": {
          "base_uri": "https://localhost:8080/",
          "height": 204
        },
        "id": "ahjqMc5SvtUG",
        "outputId": "521d7943-57d6-4708-d6ee-9fc19bbcb0d1"
      },
      "source": [
        "dataset.head()"
      ],
      "execution_count": 15,
      "outputs": [
        {
          "output_type": "execute_result",
          "data": {
            "text/html": [
              "<div>\n",
              "<style scoped>\n",
              "    .dataframe tbody tr th:only-of-type {\n",
              "        vertical-align: middle;\n",
              "    }\n",
              "\n",
              "    .dataframe tbody tr th {\n",
              "        vertical-align: top;\n",
              "    }\n",
              "\n",
              "    .dataframe thead th {\n",
              "        text-align: right;\n",
              "    }\n",
              "</style>\n",
              "<table border=\"1\" class=\"dataframe\">\n",
              "  <thead>\n",
              "    <tr style=\"text-align: right;\">\n",
              "      <th></th>\n",
              "      <th>model1</th>\n",
              "      <th>Model-2</th>\n",
              "      <th>Model-3</th>\n",
              "      <th>Model-4</th>\n",
              "      <th>M0del-5</th>\n",
              "      <th>Model-6</th>\n",
              "      <th>Model-7</th>\n",
              "      <th>Model-8</th>\n",
              "      <th>Model-9</th>\n",
              "      <th>Model-10</th>\n",
              "      <th>Label</th>\n",
              "    </tr>\n",
              "  </thead>\n",
              "  <tbody>\n",
              "    <tr>\n",
              "      <th>0</th>\n",
              "      <td>1</td>\n",
              "      <td>1</td>\n",
              "      <td>1</td>\n",
              "      <td>1</td>\n",
              "      <td>0</td>\n",
              "      <td>1</td>\n",
              "      <td>1</td>\n",
              "      <td>1</td>\n",
              "      <td>0</td>\n",
              "      <td>1</td>\n",
              "      <td>0</td>\n",
              "    </tr>\n",
              "    <tr>\n",
              "      <th>1</th>\n",
              "      <td>1</td>\n",
              "      <td>1</td>\n",
              "      <td>1</td>\n",
              "      <td>1</td>\n",
              "      <td>1</td>\n",
              "      <td>1</td>\n",
              "      <td>1</td>\n",
              "      <td>1</td>\n",
              "      <td>1</td>\n",
              "      <td>1</td>\n",
              "      <td>1</td>\n",
              "    </tr>\n",
              "    <tr>\n",
              "      <th>2</th>\n",
              "      <td>1</td>\n",
              "      <td>1</td>\n",
              "      <td>1</td>\n",
              "      <td>1</td>\n",
              "      <td>1</td>\n",
              "      <td>1</td>\n",
              "      <td>1</td>\n",
              "      <td>1</td>\n",
              "      <td>1</td>\n",
              "      <td>1</td>\n",
              "      <td>1</td>\n",
              "    </tr>\n",
              "    <tr>\n",
              "      <th>3</th>\n",
              "      <td>1</td>\n",
              "      <td>1</td>\n",
              "      <td>1</td>\n",
              "      <td>1</td>\n",
              "      <td>1</td>\n",
              "      <td>1</td>\n",
              "      <td>1</td>\n",
              "      <td>1</td>\n",
              "      <td>1</td>\n",
              "      <td>1</td>\n",
              "      <td>1</td>\n",
              "    </tr>\n",
              "    <tr>\n",
              "      <th>4</th>\n",
              "      <td>1</td>\n",
              "      <td>1</td>\n",
              "      <td>1</td>\n",
              "      <td>1</td>\n",
              "      <td>1</td>\n",
              "      <td>1</td>\n",
              "      <td>1</td>\n",
              "      <td>1</td>\n",
              "      <td>1</td>\n",
              "      <td>1</td>\n",
              "      <td>1</td>\n",
              "    </tr>\n",
              "  </tbody>\n",
              "</table>\n",
              "</div>"
            ],
            "text/plain": [
              "   model1  Model-2  Model-3  Model-4  ...  Model-8  Model-9  Model-10  Label\n",
              "0       1        1        1        1  ...        1        0         1      0\n",
              "1       1        1        1        1  ...        1        1         1      1\n",
              "2       1        1        1        1  ...        1        1         1      1\n",
              "3       1        1        1        1  ...        1        1         1      1\n",
              "4       1        1        1        1  ...        1        1         1      1\n",
              "\n",
              "[5 rows x 11 columns]"
            ]
          },
          "metadata": {
            "tags": []
          },
          "execution_count": 15
        }
      ]
    },
    {
      "cell_type": "code",
      "metadata": {
        "id": "wVRiDr59olsb"
      },
      "source": [
        "\r\n",
        "# split into train and test sets\r\n",
        "\r\n",
        "X = values[:,1:11]\r\n",
        "y = values[:,11]"
      ],
      "execution_count": 16,
      "outputs": []
    },
    {
      "cell_type": "code",
      "metadata": {
        "colab": {
          "base_uri": "https://localhost:8080/"
        },
        "id": "-an2xg2Do4N7",
        "outputId": "33dc4aeb-47aa-4ae0-97ac-010da9b30b0b"
      },
      "source": [
        "print(X)\r\n",
        "print(y)"
      ],
      "execution_count": 17,
      "outputs": [
        {
          "output_type": "stream",
          "text": [
            "[[   1    1    1 ...    1    1    0]\n",
            " [   2    1    1 ...    1    1    1]\n",
            " [   3    1    1 ...    1    1    1]\n",
            " ...\n",
            " [3254    1    1 ...    1    1    1]\n",
            " [3255    1    1 ...    1    1    1]\n",
            " [3256    0    0 ...    0    0    0]]\n",
            "[1 1 1 ... 1 1 0]\n"
          ],
          "name": "stdout"
        }
      ]
    },
    {
      "cell_type": "code",
      "metadata": {
        "colab": {
          "base_uri": "https://localhost:8080/"
        },
        "id": "zaPnM5XRpGjU",
        "outputId": "e33c5bdf-43e5-44b9-ecc4-2f1d3d5ac95d"
      },
      "source": [
        "dataset.isnull().sum().sort_values(ascending = True)"
      ],
      "execution_count": 18,
      "outputs": [
        {
          "output_type": "execute_result",
          "data": {
            "text/plain": [
              "model1      0\n",
              "Model-2     0\n",
              "Model-3     0\n",
              "Model-4     0\n",
              "M0del-5     0\n",
              "Model-6     0\n",
              "Model-7     0\n",
              "Model-8     0\n",
              "Model-9     0\n",
              "Model-10    0\n",
              "Label       0\n",
              "dtype: int64"
            ]
          },
          "metadata": {
            "tags": []
          },
          "execution_count": 18
        }
      ]
    },
    {
      "cell_type": "code",
      "metadata": {
        "colab": {
          "base_uri": "https://localhost:8080/",
          "height": 204
        },
        "id": "gvmWgNTgpwv4",
        "outputId": "99eb7a86-00fe-437f-be2e-8e7bbdba53eb"
      },
      "source": [
        "dataset.head()"
      ],
      "execution_count": 19,
      "outputs": [
        {
          "output_type": "execute_result",
          "data": {
            "text/html": [
              "<div>\n",
              "<style scoped>\n",
              "    .dataframe tbody tr th:only-of-type {\n",
              "        vertical-align: middle;\n",
              "    }\n",
              "\n",
              "    .dataframe tbody tr th {\n",
              "        vertical-align: top;\n",
              "    }\n",
              "\n",
              "    .dataframe thead th {\n",
              "        text-align: right;\n",
              "    }\n",
              "</style>\n",
              "<table border=\"1\" class=\"dataframe\">\n",
              "  <thead>\n",
              "    <tr style=\"text-align: right;\">\n",
              "      <th></th>\n",
              "      <th>model1</th>\n",
              "      <th>Model-2</th>\n",
              "      <th>Model-3</th>\n",
              "      <th>Model-4</th>\n",
              "      <th>M0del-5</th>\n",
              "      <th>Model-6</th>\n",
              "      <th>Model-7</th>\n",
              "      <th>Model-8</th>\n",
              "      <th>Model-9</th>\n",
              "      <th>Model-10</th>\n",
              "      <th>Label</th>\n",
              "    </tr>\n",
              "  </thead>\n",
              "  <tbody>\n",
              "    <tr>\n",
              "      <th>0</th>\n",
              "      <td>1</td>\n",
              "      <td>1</td>\n",
              "      <td>1</td>\n",
              "      <td>1</td>\n",
              "      <td>0</td>\n",
              "      <td>1</td>\n",
              "      <td>1</td>\n",
              "      <td>1</td>\n",
              "      <td>0</td>\n",
              "      <td>1</td>\n",
              "      <td>0</td>\n",
              "    </tr>\n",
              "    <tr>\n",
              "      <th>1</th>\n",
              "      <td>1</td>\n",
              "      <td>1</td>\n",
              "      <td>1</td>\n",
              "      <td>1</td>\n",
              "      <td>1</td>\n",
              "      <td>1</td>\n",
              "      <td>1</td>\n",
              "      <td>1</td>\n",
              "      <td>1</td>\n",
              "      <td>1</td>\n",
              "      <td>1</td>\n",
              "    </tr>\n",
              "    <tr>\n",
              "      <th>2</th>\n",
              "      <td>1</td>\n",
              "      <td>1</td>\n",
              "      <td>1</td>\n",
              "      <td>1</td>\n",
              "      <td>1</td>\n",
              "      <td>1</td>\n",
              "      <td>1</td>\n",
              "      <td>1</td>\n",
              "      <td>1</td>\n",
              "      <td>1</td>\n",
              "      <td>1</td>\n",
              "    </tr>\n",
              "    <tr>\n",
              "      <th>3</th>\n",
              "      <td>1</td>\n",
              "      <td>1</td>\n",
              "      <td>1</td>\n",
              "      <td>1</td>\n",
              "      <td>1</td>\n",
              "      <td>1</td>\n",
              "      <td>1</td>\n",
              "      <td>1</td>\n",
              "      <td>1</td>\n",
              "      <td>1</td>\n",
              "      <td>1</td>\n",
              "    </tr>\n",
              "    <tr>\n",
              "      <th>4</th>\n",
              "      <td>1</td>\n",
              "      <td>1</td>\n",
              "      <td>1</td>\n",
              "      <td>1</td>\n",
              "      <td>1</td>\n",
              "      <td>1</td>\n",
              "      <td>1</td>\n",
              "      <td>1</td>\n",
              "      <td>1</td>\n",
              "      <td>1</td>\n",
              "      <td>1</td>\n",
              "    </tr>\n",
              "  </tbody>\n",
              "</table>\n",
              "</div>"
            ],
            "text/plain": [
              "   model1  Model-2  Model-3  Model-4  ...  Model-8  Model-9  Model-10  Label\n",
              "0       1        1        1        1  ...        1        0         1      0\n",
              "1       1        1        1        1  ...        1        1         1      1\n",
              "2       1        1        1        1  ...        1        1         1      1\n",
              "3       1        1        1        1  ...        1        1         1      1\n",
              "4       1        1        1        1  ...        1        1         1      1\n",
              "\n",
              "[5 rows x 11 columns]"
            ]
          },
          "metadata": {
            "tags": []
          },
          "execution_count": 19
        }
      ]
    },
    {
      "cell_type": "markdown",
      "metadata": {
        "id": "4HhiWQRI2eNC"
      },
      "source": [
        "**Random Forest **"
      ]
    },
    {
      "cell_type": "code",
      "metadata": {
        "colab": {
          "base_uri": "https://localhost:8080/",
          "height": 313
        },
        "id": "zMKijeNX2jcz",
        "outputId": "3937bdb7-fa02-438d-9a48-aafb1c8d802c"
      },
      "source": [
        "g = sns.heatmap(dataset[[\"model1\",\"Model-2\",\"Model-3\",\"Model-4\",\"M0del-5\",\"Model-6\",\"Model-7\",\"Model-8\",\"Model-9\", \"Model-10\",\"Label\"]].corr(),cmap=\"BrBG\",annot=True)"
      ],
      "execution_count": null,
      "outputs": [
        {
          "output_type": "display_data",
          "data": {
            "image/png": "[encoded data removed]",
            "text/plain": [
              "<Figure size 432x288 with 2 Axes>"
            ]
          },
          "metadata": {
            "tags": []
          }
        }
      ]
    },
    {
      "cell_type": "code",
      "metadata": {
        "colab": {
          "base_uri": "https://localhost:8080/",
          "height": 809
        },
        "id": "3atEqvSSzw6N",
        "outputId": "5e898af2-c32c-4dca-fee7-aa5f67fa18ff"
      },
      "source": [
        "# Correlation of the features\r\n",
        "import seaborn as sns\r\n",
        "correlation = dataset[0:11].corr()\r\n",
        "\r\n",
        "plt.figure(figsize=(14, 14))\r\n",
        "ax = sns.heatmap(\r\n",
        "    correlation, \r\n",
        "    vmin=-1, vmax=1, center=0,\r\n",
        "    cmap=sns.diverging_palette(20, 220, n=200),\r\n",
        "    square=True, annot = True\r\n",
        ")\r\n",
        "ax.set_xticklabels(\r\n",
        "    ax.get_xticklabels(),\r\n",
        "    rotation=45,\r\n",
        "    horizontalalignment='right'\r\n",
        ")\r\n",
        "ax.set_ylim(len(correlation)+0.5, -0.5);"
      ],
      "execution_count": 68,
      "outputs": [
        {
          "output_type": "display_data",
          "data": {
            "image/png": "[encoded data removed]",
            "text/plain": [
              "<Figure size 1008x1008 with 2 Axes>"
            ]
          },
          "metadata": {
            "tags": []
          }
        }
      ]
    },
    {
      "cell_type": "code",
      "metadata": {
        "id": "WYuRr-Mb68ce"
      },
      "source": [
        "# split into train and test\r\n",
        "n_train = 2000\r\n",
        "X_train, X_test = X[:n_train, :], X[n_train:, :]\r\n",
        "y_train, y_test = y[:n_train], y[n_train:]"
      ],
      "execution_count": 20,
      "outputs": []
    },
    {
      "cell_type": "code",
      "metadata": {
        "id": "i0g_SAMq7Yd7"
      },
      "source": [
        "# Cross validation için K fold ayarlama \r\n",
        "kfold = StratifiedKFold(n_splits=10)"
      ],
      "execution_count": 21,
      "outputs": []
    },
    {
      "cell_type": "code",
      "metadata": {
        "colab": {
          "base_uri": "https://localhost:8080/",
          "height": 1000
        },
        "id": "O4PWU7Jx65CM",
        "outputId": "fec105d1-7c83-474a-a982-b186c5e0c9c2"
      },
      "source": [
        "# Modeling\r\n",
        "#not: datasette muhakkak string kalmasın hepsi dummy olsun yoksa hata veriyor \r\n",
        "random_state = 2\r\n",
        "classifiers = []\r\n",
        "classifiers.append(SVC(random_state=random_state))\r\n",
        "classifiers.append(DecisionTreeClassifier(random_state=random_state))\r\n",
        "classifiers.append(AdaBoostClassifier(DecisionTreeClassifier(random_state=random_state),random_state=random_state,learning_rate=0.01))\r\n",
        "classifiers.append(RandomForestClassifier(random_state=random_state))\r\n",
        "classifiers.append(ExtraTreesClassifier(random_state=random_state))\r\n",
        "classifiers.append(GradientBoostingClassifier(random_state=random_state))\r\n",
        "classifiers.append(MLPClassifier(random_state=random_state))\r\n",
        "classifiers.append(KNeighborsClassifier())\r\n",
        "classifiers.append(LogisticRegression(random_state = random_state))\r\n",
        "classifiers.append(LinearDiscriminantAnalysis())\r\n",
        "#burada her classifier için cross validation scorelar elde edilir \r\n",
        "cv_results = []\r\n",
        "for classifier in classifiers :\r\n",
        "    cv_results.append(cross_val_score(classifier, X_train, y= y_train, scoring = \"accuracy\", cv = kfold, verbose=0))\r\n",
        "cv_means = []\r\n",
        "cv_std = []\r\n",
        "for cv_result in cv_results:\r\n",
        "    cv_means.append(cv_result.mean())\r\n",
        "    cv_std.append(cv_result.std())\r\n",
        "#sonuçlar yazdırılır. \r\n",
        "print(cv_means ,cv_std, cv_result)\r\n",
        "#sonu.lar list olarak kaydedilir. \r\n",
        "cv_res = pd.DataFrame({\"CrossValMeans\":cv_means,\"CrossValerrors\": cv_std,\"Algorithm\":[\"SVC\",\"DecisionTree\",\"AdaBoost\", \"RandomForest\",\"ExtraTrees\",\"GradientBoosting\",\"MultipleLayerPerceptron\",\"KNeighboors\",\"LogisticRegression\",\"LinearDiscriminantAnalysis\"]})\r\n",
        "g = sns.barplot(\"CrossValMeans\",y=\"Algorithm\",data = cv_res, palette=sns.color_palette(\"Reds_d\", n_colors=7, desat=1),orient = \"h\",**{'xerr':cv_std}, errwidth=None)\r\n",
        "g.set_xlabel(\"Mean Accuracy\",fontsize=12)\r\n",
        "g = g.set_title(\"Cross validation scores\")\r\n",
        "sns.despine()\r\n",
        "plt.show()"
      ],
      "execution_count": 22,
      "outputs": [
        {
          "output_type": "stream",
          "text": [
            "/usr/local/lib/python3.6/dist-packages/sklearn/neural_network/_multilayer_perceptron.py:571: ConvergenceWarning: Stochastic Optimizer: Maximum iterations (200) reached and the optimization hasn't converged yet.\n",
            "  % self.max_iter, ConvergenceWarning)\n",
            "/usr/local/lib/python3.6/dist-packages/sklearn/neural_network/_multilayer_perceptron.py:571: ConvergenceWarning: Stochastic Optimizer: Maximum iterations (200) reached and the optimization hasn't converged yet.\n",
            "  % self.max_iter, ConvergenceWarning)\n",
            "/usr/local/lib/python3.6/dist-packages/sklearn/linear_model/_logistic.py:940: ConvergenceWarning: lbfgs failed to converge (status=1):\n",
            "STOP: TOTAL NO. of ITERATIONS REACHED LIMIT.\n",
            "\n",
            "Increase the number of iterations (max_iter) or scale the data as shown in:\n",
            "    https://scikit-learn.org/stable/modules/preprocessing.html\n",
            "Please also refer to the documentation for alternative solver options:\n",
            "    https://scikit-learn.org/stable/modules/linear_model.html#logistic-regression\n",
            "  extra_warning_msg=_LOGISTIC_SOLVER_CONVERGENCE_MSG)\n",
            "/usr/local/lib/python3.6/dist-packages/sklearn/linear_model/_logistic.py:940: ConvergenceWarning: lbfgs failed to converge (status=1):\n",
            "STOP: TOTAL NO. of ITERATIONS REACHED LIMIT.\n",
            "\n",
            "Increase the number of iterations (max_iter) or scale the data as shown in:\n",
            "    https://scikit-learn.org/stable/modules/preprocessing.html\n",
            "Please also refer to the documentation for alternative solver options:\n",
            "    https://scikit-learn.org/stable/modules/linear_model.html#logistic-regression\n",
            "  extra_warning_msg=_LOGISTIC_SOLVER_CONVERGENCE_MSG)\n",
            "/usr/local/lib/python3.6/dist-packages/sklearn/linear_model/_logistic.py:940: ConvergenceWarning: lbfgs failed to converge (status=1):\n",
            "STOP: TOTAL NO. of ITERATIONS REACHED LIMIT.\n",
            "\n",
            "Increase the number of iterations (max_iter) or scale the data as shown in:\n",
            "    https://scikit-learn.org/stable/modules/preprocessing.html\n",
            "Please also refer to the documentation for alternative solver options:\n",
            "    https://scikit-learn.org/stable/modules/linear_model.html#logistic-regression\n",
            "  extra_warning_msg=_LOGISTIC_SOLVER_CONVERGENCE_MSG)\n",
            "/usr/local/lib/python3.6/dist-packages/sklearn/linear_model/_logistic.py:940: ConvergenceWarning: lbfgs failed to converge (status=1):\n",
            "STOP: TOTAL NO. of ITERATIONS REACHED LIMIT.\n",
            "\n",
            "Increase the number of iterations (max_iter) or scale the data as shown in:\n",
            "    https://scikit-learn.org/stable/modules/preprocessing.html\n",
            "Please also refer to the documentation for alternative solver options:\n",
            "    https://scikit-learn.org/stable/modules/linear_model.html#logistic-regression\n",
            "  extra_warning_msg=_LOGISTIC_SOLVER_CONVERGENCE_MSG)\n",
            "/usr/local/lib/python3.6/dist-packages/sklearn/linear_model/_logistic.py:940: ConvergenceWarning: lbfgs failed to converge (status=1):\n",
            "STOP: TOTAL NO. of ITERATIONS REACHED LIMIT.\n",
            "\n",
            "Increase the number of iterations (max_iter) or scale the data as shown in:\n",
            "    https://scikit-learn.org/stable/modules/preprocessing.html\n",
            "Please also refer to the documentation for alternative solver options:\n",
            "    https://scikit-learn.org/stable/modules/linear_model.html#logistic-regression\n",
            "  extra_warning_msg=_LOGISTIC_SOLVER_CONVERGENCE_MSG)\n",
            "/usr/local/lib/python3.6/dist-packages/sklearn/linear_model/_logistic.py:940: ConvergenceWarning: lbfgs failed to converge (status=1):\n",
            "STOP: TOTAL NO. of ITERATIONS REACHED LIMIT.\n",
            "\n",
            "Increase the number of iterations (max_iter) or scale the data as shown in:\n",
            "    https://scikit-learn.org/stable/modules/preprocessing.html\n",
            "Please also refer to the documentation for alternative solver options:\n",
            "    https://scikit-learn.org/stable/modules/linear_model.html#logistic-regression\n",
            "  extra_warning_msg=_LOGISTIC_SOLVER_CONVERGENCE_MSG)\n",
            "/usr/local/lib/python3.6/dist-packages/sklearn/linear_model/_logistic.py:940: ConvergenceWarning: lbfgs failed to converge (status=1):\n",
            "STOP: TOTAL NO. of ITERATIONS REACHED LIMIT.\n",
            "\n",
            "Increase the number of iterations (max_iter) or scale the data as shown in:\n",
            "    https://scikit-learn.org/stable/modules/preprocessing.html\n",
            "Please also refer to the documentation for alternative solver options:\n",
            "    https://scikit-learn.org/stable/modules/linear_model.html#logistic-regression\n",
            "  extra_warning_msg=_LOGISTIC_SOLVER_CONVERGENCE_MSG)\n",
            "/usr/local/lib/python3.6/dist-packages/sklearn/linear_model/_logistic.py:940: ConvergenceWarning: lbfgs failed to converge (status=1):\n",
            "STOP: TOTAL NO. of ITERATIONS REACHED LIMIT.\n",
            "\n",
            "Increase the number of iterations (max_iter) or scale the data as shown in:\n",
            "    https://scikit-learn.org/stable/modules/preprocessing.html\n",
            "Please also refer to the documentation for alternative solver options:\n",
            "    https://scikit-learn.org/stable/modules/linear_model.html#logistic-regression\n",
            "  extra_warning_msg=_LOGISTIC_SOLVER_CONVERGENCE_MSG)\n",
            "/usr/local/lib/python3.6/dist-packages/sklearn/linear_model/_logistic.py:940: ConvergenceWarning: lbfgs failed to converge (status=1):\n",
            "STOP: TOTAL NO. of ITERATIONS REACHED LIMIT.\n",
            "\n",
            "Increase the number of iterations (max_iter) or scale the data as shown in:\n",
            "    https://scikit-learn.org/stable/modules/preprocessing.html\n",
            "Please also refer to the documentation for alternative solver options:\n",
            "    https://scikit-learn.org/stable/modules/linear_model.html#logistic-regression\n",
            "  extra_warning_msg=_LOGISTIC_SOLVER_CONVERGENCE_MSG)\n"
          ],
          "name": "stderr"
        },
        {
          "output_type": "stream",
          "text": [
            "[0.7675, 1.0, 1.0, 1.0, 1.0, 1.0, 0.9164999999999999, 0.5464999999999999, 1.0, 0.985] [0.0025000000000000022, 0.0, 0.0, 0.0, 0.0, 0.0, 0.2272449119342389, 0.19902323984901862, 0.0, 0.006324555320336764] [0.98  0.98  0.99  0.99  0.99  0.995 0.975 0.98  0.98  0.99 ]\n"
          ],
          "name": "stdout"
        },
        {
          "output_type": "stream",
          "text": [
            "/usr/local/lib/python3.6/dist-packages/seaborn/_decorators.py:43: FutureWarning: Pass the following variable as a keyword arg: x. From version 0.12, the only valid positional argument will be `data`, and passing other arguments without an explicit keyword will result in an error or misinterpretation.\n",
            "  FutureWarning\n"
          ],
          "name": "stderr"
        },
        {
          "output_type": "display_data",
          "data": {
            "image/png": "[encoded data removed]",
            "text/plain": [
              "<Figure size 432x288 with 1 Axes>"
            ]
          },
          "metadata": {
            "tags": [],
            "needs_background": "light"
          }
        }
      ]
    },
    {
      "cell_type": "code",
      "metadata": {
        "colab": {
          "base_uri": "https://localhost:8080/"
        },
        "id": "ABVFm0We9ZH4",
        "outputId": "c6f3cdd0-3bb0-4e39-a4ec-aeeeaf0b65fc"
      },
      "source": [
        "# RFC Parameters tunning \r\n",
        "RFC = RandomForestClassifier()\r\n",
        "\r\n",
        "\r\n",
        "## Search grid for optimal parameters\r\n",
        "rf_param_grid = {\"max_depth\": [None],\r\n",
        "              \"max_features\": [1, 2,3,4,5],\r\n",
        "              \"min_samples_split\": [2, 3, 10],\r\n",
        "              \"min_samples_leaf\": [1, 3, 10],\r\n",
        "              \"bootstrap\": [False],\r\n",
        "              \"criterion\": [\"gini\"]}\r\n",
        "\r\n",
        "\r\n",
        "gsRFC = GridSearchCV(RFC,param_grid = rf_param_grid, cv=kfold, scoring=\"accuracy\", n_jobs= 4, verbose = 1)\r\n",
        "\r\n",
        "gsRFC.fit(X_train,y_train)\r\n",
        "\r\n",
        "RFC_best = gsRFC.best_estimator_\r\n",
        "\r\n",
        "# Best score\r\n",
        "print(\"best score\",\"=\", gsRFC.best_score_)"
      ],
      "execution_count": null,
      "outputs": [
        {
          "output_type": "stream",
          "text": [
            "Fitting 10 folds for each of 45 candidates, totalling 450 fits\n"
          ],
          "name": "stdout"
        },
        {
          "output_type": "stream",
          "text": [
            "[Parallel(n_jobs=4)]: Using backend LokyBackend with 4 concurrent workers.\n",
            "[Parallel(n_jobs=4)]: Done  42 tasks      | elapsed:    7.5s\n",
            "[Parallel(n_jobs=4)]: Done 192 tasks      | elapsed:   25.2s\n",
            "[Parallel(n_jobs=4)]: Done 442 tasks      | elapsed:   55.7s\n"
          ],
          "name": "stderr"
        },
        {
          "output_type": "stream",
          "text": [
            "best score = 1.0\n"
          ],
          "name": "stdout"
        },
        {
          "output_type": "stream",
          "text": [
            "[Parallel(n_jobs=4)]: Done 450 out of 450 | elapsed:   56.6s finished\n"
          ],
          "name": "stderr"
        }
      ]
    },
    {
      "cell_type": "code",
      "metadata": {
        "colab": {
          "base_uri": "https://localhost:8080/",
          "height": 301
        },
        "id": "_T2qYHo-DcAv",
        "outputId": "f0b981ab-f9e5-4f91-821c-d906a163ceb8"
      },
      "source": [
        "def plot_learning_curve(estimator, title, X, y, ylim=None, cv=None,n_jobs=-1, train_sizes=np.linspace(.1, 1.0, 5)):\r\n",
        "    \"\"\"Test and training data bazlı learning curve\"\"\"\r\n",
        "    plt.figure()\r\n",
        "    plt.title(title)\r\n",
        "    if ylim is not None:\r\n",
        "        plt.ylim(*ylim)\r\n",
        "    plt.xlabel(\"Training examples\")\r\n",
        "    plt.ylabel(\"Score\")\r\n",
        "    train_sizes, train_scores, test_scores = learning_curve(estimator, X, y, cv=cv, n_jobs=n_jobs, train_sizes=train_sizes)\r\n",
        "    train_scores_mean = np.mean(train_scores, axis=1)\r\n",
        "    train_scores_std = np.std(train_scores, axis=1)\r\n",
        "    test_scores_mean = np.mean(test_scores, axis=1)\r\n",
        "    test_scores_std = np.std(test_scores, axis=1)\r\n",
        "    plt.grid()\r\n",
        "\r\n",
        "    plt.fill_between(train_sizes, train_scores_mean - train_scores_std,\r\n",
        "                     train_scores_mean + train_scores_std, alpha=0.1,\r\n",
        "                     color=\"r\")\r\n",
        "    plt.fill_between(train_sizes, test_scores_mean - test_scores_std,\r\n",
        "                     test_scores_mean + test_scores_std, alpha=0.1, color=\"g\")\r\n",
        "    plt.plot(train_sizes, train_scores_mean, 'o-', color=\"r\",\r\n",
        "             label=\"Training score\")\r\n",
        "    plt.plot(train_sizes, test_scores_mean, 'o-', color=\"g\",\r\n",
        "             label=\"Cross-validation score\")\r\n",
        "\r\n",
        "    plt.legend(loc=\"best\")\r\n",
        "    return plt\r\n",
        "\r\n",
        "g = plot_learning_curve(gsRFC.best_estimator_,\"RF learning curves\",X_train,y_train,cv=kfold)\r\n"
      ],
      "execution_count": null,
      "outputs": [
        {
          "output_type": "display_data",
          "data": {
            "image/png": "[encoded data removed]",
            "text/plain": [
              "<Figure size 432x288 with 1 Axes>"
            ]
          },
          "metadata": {
            "tags": []
          }
        }
      ]
    },
    {
      "cell_type": "markdown",
      "metadata": {
        "id": "6GeHUiN82ad5"
      },
      "source": [
        "**DNN**"
      ]
    },
    {
      "cell_type": "code",
      "metadata": {
        "colab": {
          "base_uri": "https://localhost:8080/"
        },
        "id": "EO6tdeQj1Zu9",
        "outputId": "498e50d6-3b25-4e6f-d587-4d94a8508de4"
      },
      "source": [
        "values = reframed.values\r\n",
        "X = values[:,1:11]\r\n",
        "y = values[:,11]\r\n",
        "\r\n",
        "y = to_categorical(y)\r\n",
        "print(y)"
      ],
      "execution_count": 23,
      "outputs": [
        {
          "output_type": "stream",
          "text": [
            "[[0. 1.]\n",
            " [0. 1.]\n",
            " [0. 1.]\n",
            " ...\n",
            " [0. 1.]\n",
            " [0. 1.]\n",
            " [0. 1.]]\n"
          ],
          "name": "stdout"
        }
      ]
    },
    {
      "cell_type": "code",
      "metadata": {
        "colab": {
          "base_uri": "https://localhost:8080/"
        },
        "id": "loWHKc_Sp1YM",
        "outputId": "536cbeca-dee5-4d25-cd84-0b7d50c476a5"
      },
      "source": [
        "\r\n",
        "# split into train and test sets\r\n",
        "#values = reframed.values\r\n",
        "\r\n",
        "# split into train and test\r\n",
        "n_train = 2000\r\n",
        "X_train, X_test = X[:n_train, :], X[n_train:, :]\r\n",
        "y_train, y_test = y[:n_train], y[n_train:]\r\n",
        "# network architecture\r\n",
        "model = Sequential()\r\n",
        "model.add(Dense(6, input_dim=10,  activation='relu', kernel_initializer='he_uniform'))\r\n",
        "model.add(Dense(6, input_dim=10,  activation='relu', kernel_initializer='he_uniform'))\r\n",
        "model.add(Dense(6, input_dim=10,  activation='relu', kernel_initializer='he_uniform'))\r\n",
        "model.add(Dense(2, activation='softmax'))\r\n",
        "# compile model\r\n",
        "opt = SGD(lr=0.001, momentum=0.9)\r\n",
        "model.compile(loss='binary_crossentropy', optimizer=opt, metrics=['accuracy'])\r\n",
        "# fit model\r\n",
        "history = model.fit(X_train, y_train, validation_data=(X_test, y_test), epochs=300, verbose=0)\r\n",
        "# evaluate the model\r\n",
        "_, train_acc = model.evaluate(X_train, y_train, verbose=0)\r\n",
        "_, test_acc = model.evaluate(X_test, y_test, verbose=0)\r\n",
        "print('Train: %.3f, Test: %.3f' % (train_acc, test_acc))\r\n"
      ],
      "execution_count": 24,
      "outputs": [
        {
          "output_type": "stream",
          "text": [
            "Train: 1.000, Test: 0.998\n"
          ],
          "name": "stdout"
        }
      ]
    },
    {
      "cell_type": "code",
      "metadata": {
        "colab": {
          "base_uri": "https://localhost:8080/",
          "height": 268
        },
        "id": "y28v9LCjyPfN",
        "outputId": "21f25017-3651-4bc8-b7e9-962340c5b36f"
      },
      "source": [
        "# plot loss during training\r\n",
        "pyplot.subplot(211)\r\n",
        "pyplot.title('Binary Cross-Entropy Loss', pad=-20)\r\n",
        "pyplot.plot(history.history['loss'], label='train')\r\n",
        "pyplot.plot(history.history['val_loss'], label='test')\r\n",
        "pyplot.legend()\r\n",
        "# plot accuracy during training\r\n",
        "pyplot.subplot(212)\r\n",
        "pyplot.title('Classification Accuracy', pad=-40)\r\n",
        "pyplot.plot(history.history['accuracy'], label='train')\r\n",
        "pyplot.plot(history.history['val_accuracy'], label='test')\r\n",
        "pyplot.legend()\r\n",
        "pyplot.show()"
      ],
      "execution_count": 25,
      "outputs": [
        {
          "output_type": "display_data",
          "data": {
            "image/png": "[encoded data removed]",
            "text/plain": [
              "<Figure size 432x288 with 2 Axes>"
            ]
          },
          "metadata": {
            "tags": [],
            "needs_background": "light"
          }
        }
      ]
    },
    {
      "cell_type": "code",
      "metadata": {
        "colab": {
          "base_uri": "https://localhost:8080/"
        },
        "id": "2jJ46XuBKB-7",
        "outputId": "649e2e9e-c4f1-4882-e554-18cc3eaa50a6"
      },
      "source": [
        "# predict probabilities for test set\r\n",
        "yhat_probs = model.predict(X_test, verbose=0)\r\n",
        "# predict crisp classes for test set\r\n",
        "yhat_classes = model.predict_classes(X_test, verbose=0)\r\n",
        "\r\n",
        "print(yhat_classes)\r\n",
        "print(yhat_probs)"
      ],
      "execution_count": 26,
      "outputs": [
        {
          "output_type": "stream",
          "text": [
            "[1 0 1 ... 1 1 1]\n",
            "[[5.6573725e-08 1.0000000e+00]\n",
            " [9.9997079e-01 2.9193481e-05]\n",
            " [5.6794498e-08 1.0000000e+00]\n",
            " ...\n",
            " [1.0283590e-06 9.9999893e-01]\n",
            " [1.0307468e-06 9.9999893e-01]\n",
            " [1.0331452e-06 9.9999893e-01]]\n"
          ],
          "name": "stdout"
        },
        {
          "output_type": "stream",
          "text": [
            "/usr/local/lib/python3.6/dist-packages/tensorflow/python/keras/engine/sequential.py:450: UserWarning: `model.predict_classes()` is deprecated and will be removed after 2021-01-01. Please use instead:* `np.argmax(model.predict(x), axis=-1)`,   if your model does multi-class classification   (e.g. if it uses a `softmax` last-layer activation).* `(model.predict(x) > 0.5).astype(\"int32\")`,   if your model does binary classification   (e.g. if it uses a `sigmoid` last-layer activation).\n",
            "  warnings.warn('`model.predict_classes()` is deprecated and '\n"
          ],
          "name": "stderr"
        }
      ]
    },
    {
      "cell_type": "code",
      "metadata": {
        "colab": {
          "base_uri": "https://localhost:8080/"
        },
        "id": "18-YgXMEwaJY",
        "outputId": "d2d4b274-2347-4542-9f0d-93faa847c666"
      },
      "source": [
        "y_test1 = values[2000:,11]\r\n",
        "print(y_test1)"
      ],
      "execution_count": 27,
      "outputs": [
        {
          "output_type": "stream",
          "text": [
            "[1. 0. 1. ... 1. 1. 1.]\n"
          ],
          "name": "stdout"
        }
      ]
    },
    {
      "cell_type": "code",
      "metadata": {
        "colab": {
          "base_uri": "https://localhost:8080/"
        },
        "id": "aPQu8oVtKocN",
        "outputId": "af0ab8d6-dbe2-4b19-dc87-2753ab16637e"
      },
      "source": [
        "# accuracy: (tp + tn) / (p + n)\r\n",
        "from sklearn.metrics import precision_score, recall_score, accuracy_score, classification_report, f1_score\r\n",
        "accuracy = accuracy_score(y_test1, yhat_classes)\r\n",
        "print('Accuracy: %f' % accuracy)\r\n",
        "# precision tp / (tp + fp)\r\n",
        "precision = precision_score(y_test1, yhat_classes)\r\n",
        "print('Precision: %f' % precision)\r\n",
        "# recall: tp / (tp + fn)\r\n",
        "recall = recall_score(y_test1, yhat_classes)\r\n",
        "print('Recall: %f' % recall)\r\n",
        "# f1: 2 tp / (2 tp + fp + fn)\r\n",
        "f1 = f1_score(y_test1, yhat_classes)\r\n",
        "print('F1 score: %f' % f1)"
      ],
      "execution_count": 28,
      "outputs": [
        {
          "output_type": "stream",
          "text": [
            "Accuracy: 0.997610\n",
            "Precision: 1.000000\n",
            "Recall: 0.996945\n",
            "F1 score: 0.998470\n"
          ],
          "name": "stdout"
        }
      ]
    },
    {
      "cell_type": "code",
      "metadata": {
        "colab": {
          "base_uri": "https://localhost:8080/"
        },
        "id": "BDWlYR9RLe5e",
        "outputId": "548fd820-d901-43a4-fca4-79292888d930"
      },
      "source": [
        "# confusion matrix\r\n",
        "from sklearn.metrics import confusion_matrix\r\n",
        "matrix = confusion_matrix(y_test1, yhat_classes)\r\n",
        "print(matrix)"
      ],
      "execution_count": 29,
      "outputs": [
        {
          "output_type": "stream",
          "text": [
            "[[273   0]\n",
            " [  3 979]]\n"
          ],
          "name": "stdout"
        }
      ]
    },
    {
      "cell_type": "markdown",
      "metadata": {
        "id": "rE8d4-68bhQh"
      },
      "source": [
        "ENSEMBLE MODEL CONTRIBUTIONS "
      ]
    },
    {
      "cell_type": "code",
      "metadata": {
        "id": "YHJ9PpH4dkKa"
      },
      "source": [
        "dataset = pd.read_csv('covid_test.csv')\r\n",
        "values = dataset.values\r\n",
        "X = values[:,1:11]\r\n",
        "y = values[:,11]\r\n"
      ],
      "execution_count": 43,
      "outputs": []
    },
    {
      "cell_type": "code",
      "metadata": {
        "id": "f5Y9a30TXv0v"
      },
      "source": [
        "def evaluate_model(X_train, y_train, X_test, y_test):\r\n",
        "# define model\r\n",
        "   # split into train and test\r\n",
        "   n_train = 2001\r\n",
        "   X_train, X_test = X[:n_train, :], X[n_train:, :]\r\n",
        "   y_train, y_test = y[:n_train], y[n_train:]\r\n",
        "   trainy_enc = to_categorical(y_train)\r\n",
        "   testy_enc = to_categorical(y_test)\r\n",
        "   model = Sequential()\r\n",
        "   model.add(Dense(6, input_dim=10, activation='relu'))\r\n",
        "   model.add(Dense(6, input_dim=10, activation='relu'))\r\n",
        "   model.add(Dense(6, input_dim=10, activation='relu'))\r\n",
        "   model.add(Dense(2, activation='softmax'))\r\n",
        "   model.compile(loss='binary_crossentropy', optimizer='adam', metrics=['accuracy'])\r\n",
        "# fit model\r\n",
        "   model.fit(X_train,  trainy_enc, epochs=300, verbose=0)\r\n",
        "# evaluate the model\r\n",
        "   _, test_acc = model.evaluate(X_test, testy_enc, verbose=0)\r\n",
        "   return model,test_acc"
      ],
      "execution_count": 44,
      "outputs": []
    },
    {
      "cell_type": "code",
      "metadata": {
        "id": "HchtHXB5aL2n"
      },
      "source": [
        "# make an ensemble prediction for multi-class classification\r\n",
        "def ensemble_predictions(members, X_test):\r\n",
        "# make predictions\r\n",
        "   yhats = [model.predict(X_test) for model in members]\r\n",
        "   yhats = array(yhats)\r\n",
        "# sum across ensemble members\r\n",
        "   summed = numpy.sum(yhats, axis=0)\r\n",
        "# argmax across classes\r\n",
        "   result = argmax(summed, axis=1)\r\n",
        "   return result\r\n",
        "# evaluate a specific number of members in an ensemble\r\n",
        "def evaluate_n_members(members, n_members, X_test, y_test):\r\n",
        "# select a subset of members\r\n",
        "   subset = members[:n_members]\r\n",
        "# make prediction\r\n",
        "   yhat = ensemble_predictions(subset, X_test)\r\n",
        "# calculate accuracy\r\n",
        "   return accuracy_score(y_test, yhat)\r\n"
      ],
      "execution_count": 45,
      "outputs": []
    },
    {
      "cell_type": "code",
      "metadata": {
        "colab": {
          "base_uri": "https://localhost:8080/"
        },
        "id": "j5C8xcQOblZO",
        "outputId": "a99dc210-ebc2-4650-93c8-c0974cb3fccb"
      },
      "source": [
        "from sklearn.model_selection import train_test_split\r\n",
        "# generate dataset\r\n",
        "n_train = 2001\r\n",
        "X_trainnew, X_new = X[:n_train, :], X[n_train:, :]\r\n",
        "y_trainnew, y_new = y[:n_train], y[n_train:]\r\n",
        "\r\n",
        "# multiple train-test splits\r\n",
        "n_splits = 10\r\n",
        "scores, members = list(), list()\r\n",
        "for _ in range(n_splits):\r\n",
        "\r\n",
        "# evaluate model\r\n",
        "   model, test_acc = evaluate_model(X_train, y_train, X_test, y_test)\r\n",
        "   print('>%.3f' % test_acc)\r\n",
        "   scores.append(test_acc)\r\n",
        "   members.append(model)"
      ],
      "execution_count": 46,
      "outputs": [
        {
          "output_type": "stream",
          "text": [
            ">0.959\n",
            ">0.999\n",
            ">0.998\n",
            ">1.000\n",
            ">1.000\n",
            ">0.998\n",
            ">0.993\n",
            ">0.782\n",
            ">1.000\n",
            ">0.997\n"
          ],
          "name": "stdout"
        }
      ]
    },
    {
      "cell_type": "code",
      "metadata": {
        "colab": {
          "base_uri": "https://localhost:8080/"
        },
        "id": "-f3Zl3zBlFH3",
        "outputId": "f681e50e-89b8-49c2-ff7f-405d1ea285a5"
      },
      "source": [
        "from numpy import mean\r\n",
        "from numpy import std\r\n",
        "from numpy import array\r\n",
        "from numpy import argmax\r\n",
        "import numpy\r\n",
        "from sklearn.metrics import accuracy_score\r\n",
        "\r\n",
        "#summarize expected performance\r\n",
        "print('Estimated Accuracy %.3f (%.3f)' % (mean(scores), std(scores)))"
      ],
      "execution_count": 47,
      "outputs": [
        {
          "output_type": "stream",
          "text": [
            "Estimated Accuracy 0.973 (0.065)\n"
          ],
          "name": "stdout"
        }
      ]
    },
    {
      "cell_type": "code",
      "metadata": {
        "id": "TMdKXGrueluL",
        "colab": {
          "base_uri": "https://localhost:8080/",
          "height": 455
        },
        "outputId": "06cf85cc-4ba7-41b0-a2ee-dbd8d22d1b0b"
      },
      "source": [
        "# evaluate different numbers of ensembles on hold out set\r\n",
        "single_scores, ensemble_scores = list(), list()\r\n",
        "for i in range(1, n_splits+1):\r\n",
        "   ensemble_score = evaluate_n_members(members, i, X_new, y_new)\r\n",
        "   y_new_enc = to_categorical(y_new)\r\n",
        "   _, single_score = members[i-1].evaluate(X_new, y_new_enc, verbose=0)\r\n",
        "   print('> %d: single=%.3f, ensemble=%.3f' % (i, single_score, ensemble_score))\r\n",
        "   ensemble_scores.append(ensemble_score)\r\n",
        "   single_scores.append(single_score)\r\n",
        "# plot score vs number of ensemble members\r\n",
        "print('Accuracy %.3f (%.3f)' % (mean(single_scores), std(single_scores)))\r\n",
        "x_axis = [i for i in range(1, n_splits+1)]\r\n",
        "pyplot.plot(x_axis, single_scores, marker='o', linestyle='None')\r\n",
        "pyplot.plot(x_axis, ensemble_scores, marker='o')\r\n",
        "pyplot.show()"
      ],
      "execution_count": 48,
      "outputs": [
        {
          "output_type": "stream",
          "text": [
            "> 1: single=0.959, ensemble=0.959\n",
            "> 2: single=0.999, ensemble=0.996\n",
            "> 3: single=0.998, ensemble=0.998\n",
            "> 4: single=1.000, ensemble=0.999\n",
            "> 5: single=1.000, ensemble=0.999\n",
            "> 6: single=0.998, ensemble=0.999\n",
            "> 7: single=0.993, ensemble=0.999\n",
            "> 8: single=0.782, ensemble=0.999\n",
            "> 9: single=1.000, ensemble=0.999\n",
            "> 10: single=0.997, ensemble=0.999\n",
            "Accuracy 0.973 (0.065)\n"
          ],
          "name": "stdout"
        },
        {
          "output_type": "display_data",
          "data": {
            "image/png": "[encoded data removed]",
            "text/plain": [
              "<Figure size 432x288 with 1 Axes>"
            ]
          },
          "metadata": {
            "tags": [],
            "needs_background": "light"
          }
        }
      ]
    }
  ]
}